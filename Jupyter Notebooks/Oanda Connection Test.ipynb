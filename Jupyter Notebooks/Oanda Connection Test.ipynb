{
 "cells": [
  {
   "cell_type": "code",
   "execution_count": 2,
   "id": "cf6b22f4",
   "metadata": {},
   "outputs": [
    {
     "name": "stdout",
     "output_type": "stream",
     "text": [
      "h:\\My Drive\\00 PROJECTS\\0.3 Coding\\TradingBot\\Jupyter Notebooks\n"
     ]
    }
   ],
   "source": [
    "import os\n",
    "print(os.getcwd())"
   ]
  },
  {
   "cell_type": "code",
   "execution_count": 16,
   "id": "8070b744",
   "metadata": {},
   "outputs": [
    {
     "name": "stdout",
     "output_type": "stream",
     "text": [
      "Using account ID: 101-004-25922738-001\n",
      "Access token: 9483a*** (hidden for security)\n",
      "Account type: practice\n"
     ]
    }
   ],
   "source": [
    "import configparser\n",
    "import oandapyV20\n",
    "import oandapyV20.endpoints.accounts as accounts\n",
    "import oandapyV20.endpoints.instruments as instruments\n",
    "\n",
    "# Load the credentials from oanda.cfg\n",
    "config = configparser.ConfigParser()\n",
    "config.read('H:/My Drive/00 PROJECTS/0.3 Coding/Jupyter Notebooks/oanda.cfg')\n",
    "\n",
    "# Extract details from the configuration file\n",
    "OANDA_ACCOUNT_ID = config['oanda']['account_id']\n",
    "OANDA_ACCESS_TOKEN = config['oanda']['access_token']\n",
    "OANDA_ACCOUNT_TYPE = config['oanda']['account_type']\n",
    "\n",
    "# Initialize the OANDA API client\n",
    "client = oandapyV20.API(access_token=OANDA_ACCESS_TOKEN)\n",
    "\n",
    "# Check if everything is loaded correctly\n",
    "print(f\"Using account ID: {OANDA_ACCOUNT_ID}\")\n",
    "print(f\"Access token: {OANDA_ACCESS_TOKEN[:5]}*** (hidden for security)\")\n",
    "print(f\"Account type: {OANDA_ACCOUNT_TYPE}\")\n"
   ]
  },
  {
   "cell_type": "code",
   "execution_count": 17,
   "id": "6dc662c5",
   "metadata": {},
   "outputs": [
    {
     "name": "stdout",
     "output_type": "stream",
     "text": [
      "Account ID: 101-004-25922738-001\n",
      "Account Balance: 100003.2087\n"
     ]
    }
   ],
   "source": [
    "# Fetch account details using OANDA API\n",
    "def get_account_details():\n",
    "    try:\n",
    "        r = accounts.AccountDetails(accountID=OANDA_ACCOUNT_ID)\n",
    "        client.request(r)\n",
    "        return r.response\n",
    "    except Exception as e:\n",
    "        print(f\"Failed to fetch account details: {e}\")\n",
    "        return None\n",
    "\n",
    "account_details = get_account_details()\n",
    "\n",
    "if account_details:\n",
    "    print(\"Account ID:\", account_details['account']['id'])\n",
    "    print(\"Account Balance:\", account_details['account']['balance'])\n",
    "else:\n",
    "    print(\"Failed to retrieve account details.\")\n"
   ]
  },
  {
   "cell_type": "code",
   "execution_count": 18,
   "id": "08d7e056",
   "metadata": {},
   "outputs": [
    {
     "name": "stdout",
     "output_type": "stream",
     "text": [
      "Time: 2024-09-09T04:00:00.000000000Z, Open: 1.10798, High: 1.10802, Low: 1.10746, Close: 1.10757\n",
      "Time: 2024-09-09T05:00:00.000000000Z, Open: 1.10758, High: 1.10760, Low: 1.10690, Close: 1.10690\n",
      "Time: 2024-09-09T06:00:00.000000000Z, Open: 1.10692, High: 1.10719, Low: 1.10606, Close: 1.10645\n",
      "Time: 2024-09-09T07:00:00.000000000Z, Open: 1.10647, High: 1.10663, Low: 1.10550, Close: 1.10592\n",
      "Time: 2024-09-09T08:00:00.000000000Z, Open: 1.10592, High: 1.10625, Low: 1.10456, Close: 1.10476\n",
      "Time: 2024-09-09T09:00:00.000000000Z, Open: 1.10476, High: 1.10592, Low: 1.10457, Close: 1.10561\n",
      "Time: 2024-09-09T10:00:00.000000000Z, Open: 1.10561, High: 1.10566, Low: 1.10368, Close: 1.10402\n",
      "Time: 2024-09-09T11:00:00.000000000Z, Open: 1.10402, High: 1.10451, Low: 1.10358, Close: 1.10448\n",
      "Time: 2024-09-09T12:00:00.000000000Z, Open: 1.10446, High: 1.10490, Low: 1.10380, Close: 1.10396\n",
      "Time: 2024-09-09T13:00:00.000000000Z, Open: 1.10397, High: 1.10522, Low: 1.10394, Close: 1.10456\n"
     ]
    }
   ],
   "source": [
    "# Fetch historical market data (candlesticks)\n",
    "def get_candlestick_data(instrument=\"EUR_USD\", count=10, granularity=\"H1\"):\n",
    "    params = {\n",
    "        \"count\": count,\n",
    "        \"granularity\": granularity\n",
    "    }\n",
    "    try:\n",
    "        r = instruments.InstrumentsCandles(instrument=instrument, params=params)\n",
    "        client.request(r)\n",
    "        return r.response\n",
    "    except Exception as e:\n",
    "        print(f\"Failed to fetch candlestick data: {e}\")\n",
    "        return None\n",
    "\n",
    "candlestick_data = get_candlestick_data()\n",
    "\n",
    "if candlestick_data:\n",
    "    for candle in candlestick_data['candles']:\n",
    "        print(f\"Time: {candle['time']}, Open: {candle['mid']['o']}, High: {candle['mid']['h']}, Low: {candle['mid']['l']}, Close: {candle['mid']['c']}\")\n",
    "else:\n",
    "    print(\"Failed to retrieve candlestick data.\")\n"
   ]
  },
  {
   "cell_type": "code",
   "execution_count": 19,
   "id": "4e8a4c22",
   "metadata": {},
   "outputs": [
    {
     "name": "stdout",
     "output_type": "stream",
     "text": [
      "List of available symbols:\n",
      "Symbol: USD_CNH, Type: CURRENCY\n",
      "Symbol: NZD_CAD, Type: CURRENCY\n",
      "Symbol: EUR_CHF, Type: CURRENCY\n",
      "Symbol: SGD_CHF, Type: CURRENCY\n",
      "Symbol: EUR_CZK, Type: CURRENCY\n",
      "Symbol: NZD_JPY, Type: CURRENCY\n",
      "Symbol: CHF_HKD, Type: CURRENCY\n",
      "Symbol: EUR_GBP, Type: CURRENCY\n",
      "Symbol: EUR_NOK, Type: CURRENCY\n",
      "Symbol: USD_CZK, Type: CURRENCY\n",
      "Symbol: GBP_NZD, Type: CURRENCY\n",
      "Symbol: EUR_SEK, Type: CURRENCY\n",
      "Symbol: USD_SGD, Type: CURRENCY\n",
      "Symbol: GBP_PLN, Type: CURRENCY\n",
      "Symbol: CAD_HKD, Type: CURRENCY\n",
      "Symbol: USD_CHF, Type: CURRENCY\n",
      "Symbol: AUD_HKD, Type: CURRENCY\n",
      "Symbol: NZD_CHF, Type: CURRENCY\n",
      "Symbol: AUD_CHF, Type: CURRENCY\n",
      "Symbol: GBP_CHF, Type: CURRENCY\n",
      "Symbol: USD_THB, Type: CURRENCY\n",
      "Symbol: GBP_CAD, Type: CURRENCY\n",
      "Symbol: EUR_HKD, Type: CURRENCY\n",
      "Symbol: CHF_JPY, Type: CURRENCY\n",
      "Symbol: GBP_HKD, Type: CURRENCY\n",
      "Symbol: EUR_NZD, Type: CURRENCY\n",
      "Symbol: AUD_SGD, Type: CURRENCY\n",
      "Symbol: EUR_JPY, Type: CURRENCY\n",
      "Symbol: EUR_TRY, Type: CURRENCY\n",
      "Symbol: USD_JPY, Type: CURRENCY\n",
      "Symbol: SGD_JPY, Type: CURRENCY\n",
      "Symbol: GBP_ZAR, Type: CURRENCY\n",
      "Symbol: ZAR_JPY, Type: CURRENCY\n",
      "Symbol: NZD_SGD, Type: CURRENCY\n",
      "Symbol: GBP_JPY, Type: CURRENCY\n",
      "Symbol: USD_TRY, Type: CURRENCY\n",
      "Symbol: TRY_JPY, Type: CURRENCY\n",
      "Symbol: EUR_SGD, Type: CURRENCY\n",
      "Symbol: EUR_AUD, Type: CURRENCY\n",
      "Symbol: USD_CAD, Type: CURRENCY\n",
      "Symbol: CAD_CHF, Type: CURRENCY\n",
      "Symbol: USD_NOK, Type: CURRENCY\n",
      "Symbol: AUD_USD, Type: CURRENCY\n",
      "Symbol: AUD_JPY, Type: CURRENCY\n",
      "Symbol: EUR_ZAR, Type: CURRENCY\n",
      "Symbol: CHF_ZAR, Type: CURRENCY\n",
      "Symbol: USD_HKD, Type: CURRENCY\n",
      "Symbol: USD_PLN, Type: CURRENCY\n",
      "Symbol: GBP_AUD, Type: CURRENCY\n",
      "Symbol: USD_DKK, Type: CURRENCY\n",
      "Symbol: EUR_USD, Type: CURRENCY\n",
      "Symbol: USD_ZAR, Type: CURRENCY\n",
      "Symbol: CAD_JPY, Type: CURRENCY\n",
      "Symbol: NZD_USD, Type: CURRENCY\n",
      "Symbol: NZD_HKD, Type: CURRENCY\n",
      "Symbol: AUD_NZD, Type: CURRENCY\n",
      "Symbol: CAD_SGD, Type: CURRENCY\n",
      "Symbol: GBP_USD, Type: CURRENCY\n",
      "Symbol: USD_MXN, Type: CURRENCY\n",
      "Symbol: AUD_CAD, Type: CURRENCY\n",
      "Symbol: USD_HUF, Type: CURRENCY\n",
      "Symbol: EUR_CAD, Type: CURRENCY\n",
      "Symbol: EUR_DKK, Type: CURRENCY\n",
      "Symbol: USD_SEK, Type: CURRENCY\n",
      "Symbol: GBP_SGD, Type: CURRENCY\n",
      "Symbol: EUR_PLN, Type: CURRENCY\n",
      "Symbol: HKD_JPY, Type: CURRENCY\n",
      "Symbol: EUR_HUF, Type: CURRENCY\n"
     ]
    }
   ],
   "source": [
    "# Get available instruments (symbols) for the account\n",
    "def get_available_symbols(account_id):\n",
    "    try:\n",
    "        r = accounts.AccountInstruments(accountID=OANDA_ACCOUNT_ID)\n",
    "        client.request(r)\n",
    "        return r.response['instruments']\n",
    "    except oandapyV20.exceptions.V20Error as e:\n",
    "        print(f\"Error fetching instruments: {e}\")\n",
    "        return None\n",
    "\n",
    "# Fetch the symbols\n",
    "symbols = get_available_symbols(OANDA_ACCOUNT_ID)\n",
    "\n",
    "if symbols:\n",
    "    print(\"List of available symbols:\")\n",
    "    for instrument in symbols:\n",
    "       if instrument['type'] == 'CURRENCY':\n",
    "           print(f\"Symbol: {instrument['name']}, Type: {instrument['type']}\")\n",
    "else:\n",
    "    print(\"Failed to retrieve symbols.\")\n"
   ]
  },
  {
   "cell_type": "code",
   "execution_count": null,
   "id": "e286364b",
   "metadata": {},
   "outputs": [],
   "source": []
  }
 ],
 "metadata": {
  "kernelspec": {
   "display_name": "Python 3 (ipykernel)",
   "language": "python",
   "name": "python3"
  },
  "language_info": {
   "codemirror_mode": {
    "name": "ipython",
    "version": 3
   },
   "file_extension": ".py",
   "mimetype": "text/x-python",
   "name": "python",
   "nbconvert_exporter": "python",
   "pygments_lexer": "ipython3",
   "version": "3.11.3"
  }
 },
 "nbformat": 4,
 "nbformat_minor": 5
}
